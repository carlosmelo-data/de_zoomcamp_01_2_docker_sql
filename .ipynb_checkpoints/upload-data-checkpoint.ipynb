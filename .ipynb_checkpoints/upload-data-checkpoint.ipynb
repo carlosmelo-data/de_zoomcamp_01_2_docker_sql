{
 "cells": [
  {
   "cell_type": "code",
   "execution_count": null,
   "id": "7d74863d-8769-4070-9188-84557f0e5bcb",
   "metadata": {},
   "outputs": [],
   "source": []
  }
 ],
 "metadata": {
  "kernelspec": {
   "display_name": "Python 3 (ipykernel)",
   "language": "python",
   "name": "python3"
  },
  "language_info": {
   "codemirror_mode": {
    "name": "ipython",
    "version": 3
   },
   "file_extension": ".py",
   "mimetype": "text/x-python",
   "name": "python",
   "nbconvert_exporter": "python",
   "pygments_lexer": "ipython3",
   "version": "3.10.13"
  }
 },
 "nbformat": 4,
 "nbformat_minor": 5
}
